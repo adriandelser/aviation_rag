{
 "cells": [
  {
   "cell_type": "markdown",
   "metadata": {},
   "source": [
    "***Full RAG pipeline to work locally on an Apple Silicon device (such as an M1 Max)***\n",
    "\n",
    "Steps:\n",
    "- Look through pdf and create a list of chunks each with fewer tokens than the maximum allowed by the sentence embedding model\n",
    "- embed each of the *n* chunks and convert to an *n* by *e* mx array where *e* is the vector shape of the sentence embedding model (eg 768 for bge-base)\n",
    "- create a query string and embed it with the same model\n",
    "- perform vector search/semantic search between the query vector and the embedded data \n",
    "- build up the prompt\n",
    "- pass the new fancy prompt to the local llm (loaded onto the GPU)"
   ]
  },
  {
   "cell_type": "code",
   "execution_count": 62,
   "metadata": {},
   "outputs": [
    {
     "name": "stdout",
     "output_type": "stream",
     "text": [
      "File POH-Cessna-172S.pdf exists.\n"
     ]
    }
   ],
   "source": [
    "import os\n",
    "import requests\n",
    "\n",
    "# pdf_path = 'human-nutrition-text.pdf'\n",
    "pdf_path = 'POH-Cessna-172S.pdf'\n",
    "# Download PDF\n",
    "if not os.path.exists(pdf_path):\n",
    "    print(\"[INFO] File doesn't exist, downloading...\")\n",
    "\n",
    "    # Enter the URL of the PDF\n",
    "    url = \"path/to/downloadable/pdf.pdf\"\n",
    "\n",
    "    # The local filename to save the downloaded file\n",
    "    filename = pdf_path\n",
    "\n",
    "    # Send a GET request to the URL\n",
    "    response = requests.get(url)\n",
    "\n",
    "    # Check if the request was successful\n",
    "    if response.status_code == 200:\n",
    "        # Open the file and save it\n",
    "        with open(filename, \"wb\") as file:\n",
    "            file.write(response.content)\n",
    "        print(f\"[INFO] The file has been download and saved as {filename}\")\n",
    "    else:\n",
    "        print(f\"[INFO] Failed to download the file. Status code: {response.status_code}\")\n",
    "\n",
    "else:\n",
    "    print(f\"File {pdf_path} exists.\")"
   ]
  },
  {
   "cell_type": "code",
   "execution_count": 63,
   "metadata": {},
   "outputs": [
    {
     "name": "stderr",
     "output_type": "stream",
     "text": [
      "499it [00:01, 276.74it/s]\n"
     ]
    },
    {
     "data": {
      "text/plain": [
       "[{'page_number': -41,\n",
       "  'page_char_count': 678,\n",
       "  'page_word_count': 148,\n",
       "  'page_token_count': 169.5,\n",
       "  'text': \"CESSNA  MODEL 172S  NOTICE  INTRODUCTION  AT THE TIME OF ISSUANCE, THIS INFORMATION  MANUAL WAS AN EXACT DUPLICATE OF THE  OFFICIAL PILOT'S OPERATING HANDBOOK AND  FAA APPROVED AIRPLANE FLIGHT MANUAL AND  IS TO BE USED FOR GENERAL PURPOSES ONLY.  IT  WILL  NOT  BE  KEPT  CURRENT  AND,  THEREFORE,  CANNOT  BE  USED  AS  A  SUBSTITUTE  FOR  THE  OFFICIAL  PILOT'S  OPERATING HANDBOOK AND FAA APPROVED  AIRPLANE  FLIGHT  MANUAL  INTENDED  FOR  OPERATION OF THE AIRPLANE.  THE PILOT'S OPERATING HANDBOOK MUST BE  CARRIED IN THE AIRPLANE AND AVAILABLE TO  THE PILOT AT ALL TIMES.  I Revision 5  Cessna Aircraft Company  Original Issue - 8 July 1998  Revision 5 - 19 July 2004  U.S.\"},\n",
       " {'page_number': -40,\n",
       "  'page_char_count': 1516,\n",
       "  'page_word_count': 230,\n",
       "  'page_token_count': 379.0,\n",
       "  'text': 'INTRODUCTION  CESSNA  MODEL 172S  PERFORMANCE - SPECIFICATIONS  *SPEED:  Maximum at Sea Level ......................... 126 KNOTS  Cruise, 75% Power at 8500 Feet. ................. 124 KNOTS  CRUISE: Recommended lean mixture with fuel allowance for engine  start, taxi, takeoff, climb and 45 minutes reserve.  75% Power at 8500 Feet .....................  Range - 518 NM  53 Gallons Usable Fuel. ....................  Time - 4.26 HRS  Range at 10,000 Feet, 45% Power .............  Range - 638 NM  53 Gallons Usable Fuel. ....................  Time - 6.72 HRS  RATE-OF-CLIMB AT SEA LEVEL ......................  730 FPM  SERVICE CEILING ............................. 14,000 FEET  TAKEOFF PERFORMANCE:  Ground Roll ....................................  960 FEET  Total Distance Over 50 Foot Obstacle ...............  1630 FEET  LANDING PERFORMANCE:  Ground Roll ....................................  575 FEET  Total Distance Over 50 Foot Obstacle ...............  1335 FEET  STALL SPEED:  Flaps Up, Power Off ..............................  53 KCAS  Flaps Down, Power Off ...........................  .48 KCAS  MAXIMUM WEIGHT:  Ramp .....................................  2558 POUNDS  Takeoff ....................................  2550 POUNDS  Landing ...................................  2550 POUNDS  STANDARD EMPTY WEIGHT ....................  1663 POUNDS  MAXIMUM USEFUL LOAD .......................  895 POUNDS  BAGGAGE ALLOWANCE ........................  120 POUNDS  (Continued Next Page)  I ii  U.S.  Revision 5'}]"
      ]
     },
     "execution_count": 63,
     "metadata": {},
     "output_type": "execute_result"
    }
   ],
   "source": [
    "import fitz # requires: !pip install PyMuPDF, see: https://github.com/pymupdf/PyMuPDF\n",
    "from tqdm.auto import tqdm # pip install tqdm\n",
    "\n",
    "def text_formatter(text: str) -> str:\n",
    "    \"\"\"Performs minor formatting on text.\"\"\"\n",
    "    cleaned_text = text.replace(\"\\n\", \" \").strip()\n",
    "\n",
    "    # Potentially more text formatting functions can go here\n",
    "    return cleaned_text\n",
    "\n",
    "def open_and_read_pdf(pdf_path: str) -> list[dict]:\n",
    "    doc = fitz.open(pdf_path)\n",
    "    pages_and_texts = []\n",
    "    for page_number, page in tqdm(enumerate(doc)):\n",
    "        text = page.get_text()\n",
    "        text = text_formatter(text=text)\n",
    "        pages_and_texts.append({\"page_number\": page_number - 41,\n",
    "                                \"page_char_count\": len(text),\n",
    "                                \"page_word_count\": len(text.split(\" \")),\n",
    "                                # \"page_setence_count_raw\": len(text.split(\". \")),\n",
    "                                \"page_token_count\": len(text) / 4, # 1 token = ~4 characters\n",
    "                                \"text\": text})\n",
    "    return pages_and_texts\n",
    "    \n",
    "\n",
    "pages_and_texts = open_and_read_pdf(pdf_path=pdf_path)\n",
    "pages_and_texts[:2]"
   ]
  },
  {
   "cell_type": "code",
   "execution_count": 64,
   "metadata": {},
   "outputs": [
    {
     "name": "stderr",
     "output_type": "stream",
     "text": [
      "100%|██████████| 499/499 [00:01<00:00, 396.32it/s]\n"
     ]
    }
   ],
   "source": [
    "# Use 'poetry run pip3 install spacy'\n",
    "\n",
    "#split text into chunks of ~10 sentences using nltk and spacy\n",
    "from spacy.lang.en import English\n",
    "\n",
    "nlp = English()\n",
    "\n",
    "#add a sentencizer pipeline\n",
    "nlp.add_pipe('sentencizer')\n",
    "\n",
    "for item in tqdm(pages_and_texts):\n",
    "  #make sure all sentences are strings instead of spacy datatypes\n",
    "  item['sentences'] = [str(sentence) for sentence in list(nlp(item['text']).sents)]\n",
    "  #count the sentences\n",
    "  # item['page_sentence_count_spacy'] = len(item['sentences'])"
   ]
  },
  {
   "cell_type": "code",
   "execution_count": 65,
   "metadata": {},
   "outputs": [
    {
     "name": "stderr",
     "output_type": "stream",
     "text": [
      "100%|██████████| 499/499 [00:00<00:00, 430472.58it/s]\n"
     ]
    }
   ],
   "source": [
    "# Define split size to turn groups of sentences into chunks\n",
    "num_sentence_chunk_size = 10\n",
    "\n",
    "# Create a function to split lists of texts recursively into chunk size\n",
    "# e.g. [20] -> [10, 10] or [25] -> [10, 10, 5]\n",
    "def split_list(input_list: list[str],\n",
    "               slice_size: int=num_sentence_chunk_size) -> list[list[str]]:\n",
    "    return [input_list[i:i+slice_size] for i in range(0, len(input_list), slice_size)]\n",
    "\n",
    "for item in tqdm(pages_and_texts):\n",
    "  item['sentence_chunks'] = split_list(item['sentences'], slice_size = num_sentence_chunk_size)\n",
    "  item['num_chunks'] = len(item['sentence_chunks'])\n",
    "  # del item['page_sentence_count_spacy']\n",
    "  # del item['page_setence_count_raw']\n",
    "\n"
   ]
  },
  {
   "cell_type": "code",
   "execution_count": 66,
   "metadata": {},
   "outputs": [
    {
     "name": "stderr",
     "output_type": "stream",
     "text": [
      "100%|██████████| 499/499 [00:00<00:00, 48078.60it/s]\n"
     ]
    },
    {
     "data": {
      "text/plain": [
       "849"
      ]
     },
     "execution_count": 66,
     "metadata": {},
     "output_type": "execute_result"
    }
   ],
   "source": [
    "import re\n",
    "\n",
    "#split each chunk into its own item\n",
    "pages_and_chunks = []\n",
    "for item in tqdm(pages_and_texts):\n",
    "  for sentence_chunk in item['sentence_chunks']:\n",
    "    chunk_dict = {}\n",
    "    chunk_dict['page_number'] = item['page_number']\n",
    "    #join sentences into one paragraph\n",
    "    joined_sentence_chunk = ''.join(sentence_chunk).replace(\"  \", \" \").strip()\n",
    "    joined_sentence_chunk = re.sub(r'\\.([A-Z])', r'.  \\1', joined_sentence_chunk) # \".A\" => \". A\" (will work for any capital letter)\n",
    "\n",
    "    chunk_dict['sentence_chunk'] = joined_sentence_chunk\n",
    "    #get some stats\n",
    "    # chunk_dict['chunk_char_count'] = len(joined_sentence_chunk)\n",
    "    # chunk_dict[\"chunk_word_count\"] = len([word for word in joined_sentence_chunk.split(\" \")])\n",
    "    chunk_dict[\"chunk_token_count\"] = len(joined_sentence_chunk) / 4 # 1 token = ~4 chars\n",
    "\n",
    "    pages_and_chunks.append(chunk_dict)\n",
    "\n",
    "len(pages_and_chunks)\n"
   ]
  },
  {
   "cell_type": "code",
   "execution_count": 67,
   "metadata": {},
   "outputs": [],
   "source": [
    "import pandas as pd\n",
    "df = pd.DataFrame(pages_and_chunks)"
   ]
  },
  {
   "cell_type": "code",
   "execution_count": 68,
   "metadata": {},
   "outputs": [],
   "source": [
    "min_token_len = 15\n",
    "pages_and_chunks_over_min_len  = df[df['chunk_token_count']>min_token_len].to_dict(orient='records')"
   ]
  },
  {
   "cell_type": "code",
   "execution_count": 98,
   "metadata": {},
   "outputs": [
    {
     "name": "stdout",
     "output_type": "stream",
     "text": [
      "<class 'mlx_embedding_models.embedding.EmbeddingModel'>\n"
     ]
    }
   ],
   "source": [
    "from mlx_embedding_models.embedding import EmbeddingModel\n",
    "embedding_model = EmbeddingModel.from_registry(\"bge-base\")\n"
   ]
  },
  {
   "cell_type": "code",
   "execution_count": 70,
   "metadata": {},
   "outputs": [
    {
     "name": "stdout",
     "output_type": "stream",
     "text": [
      "809 INTRODUCTION CESSNA MODEL 172S PERFORMANCE - SPECIFICATIONS *SPEED: Maximum at Sea Level ......................... 126 KNOTS Cruise, 75% Power at 8500 Feet. .................124 KNOTS CRUISE: Recommended lean mixture with fuel allowance for engine start, taxi, takeoff, climb and 45 minutes reserve. 75% Power at 8500 Feet ..................... Range - 518 NM 53 Gallons Usable Fuel. .................... Time - 4.26 HRS Range at 10,000 Feet, 45% Power ............. Range - 638 NM 53 Gallons Usable Fuel. .................... Time - 6.72 HRS RATE-OF-CLIMB AT SEA LEVEL ...................... 730 FPM SERVICE CEILING ............................. 14,000 FEET TAKEOFF PERFORMANCE: Ground Roll .................................... 960 FEET Total Distance Over 50 Foot Obstacle ............... 1630 FEET LANDING PERFORMANCE: Ground Roll .................................... 575 FEET Total Distance Over 50 Foot Obstacle ............... 1335 FEET STALL SPEED: Flaps Up, Power Off .............................. 53 KCAS Flaps Down, Power Off ........................... .48 KCAS MAXIMUM WEIGHT: Ramp ..................................... 2558 POUNDS Takeoff .................................... 2550 POUNDS Landing ................................... 2550 POUNDS STANDARD EMPTY WEIGHT .................... 1663 POUNDS MAXIMUM USEFUL LOAD ....................... 895 POUNDS BAGGAGE ALLOWANCE ........................ 120 POUNDS (Continued Next Page) I ii U.  S. Revision 5\n"
     ]
    },
    {
     "name": "stderr",
     "output_type": "stream",
     "text": [
      "100%|██████████| 809/809 [00:11<00:00, 72.37it/s, seq_len=16]  "
     ]
    },
    {
     "name": "stdout",
     "output_type": "stream",
     "text": [
      "[ 1.47708384e-02  3.08182836e-03  1.87444258e-02  7.65345804e-03\n",
      "  5.92592657e-02  7.39933327e-02  5.23329712e-02 -3.14114406e-03\n",
      " -8.99336394e-03 -1.69833079e-02 -8.27064505e-04 -1.31342225e-02\n",
      " -3.97360958e-02  3.11353877e-02  9.77181946e-04  7.56912082e-02\n",
      "  7.81385303e-02 -1.63551383e-02 -7.07022846e-03  9.60304122e-03\n",
      "  6.71873422e-05 -1.73685085e-02  6.69338033e-02  3.93118011e-03\n",
      "  1.70510467e-02  1.48436828e-02  4.46833577e-03  3.95420268e-02\n",
      " -6.40615746e-02  2.34335195e-03  2.03746632e-02  3.14671695e-02\n",
      " -1.94595587e-02  1.50003878e-03 -5.12044169e-02 -4.87474054e-02\n",
      " -2.41672471e-02 -6.71750773e-03 -2.12826785e-02  3.01649645e-02\n",
      " -6.40323833e-02  1.44656748e-02  1.96865574e-03 -2.62964144e-03\n",
      " -5.76697737e-02 -4.23812456e-02 -2.26162951e-02 -1.57966297e-02\n",
      " -2.91295610e-02 -3.79749015e-03 -9.22579616e-02  4.63917181e-02\n",
      " -2.84026377e-02 -9.04204790e-03 -3.49845141e-02  4.79005203e-02\n",
      " -2.18656436e-02 -2.92229820e-02  3.54803167e-02 -6.47780746e-02\n",
      "  1.09233009e-02 -2.78477669e-02 -8.06047395e-03  1.39788976e-02\n",
      "  9.68338572e-04 -1.73664223e-02 -6.50961930e-03  4.72466871e-02\n",
      " -3.77932042e-02  2.20071096e-02 -3.13251354e-02  5.63062578e-02\n",
      "  1.02879656e-02 -1.30418986e-02 -1.52038364e-02 -5.77179939e-02\n",
      "  4.14766418e-03  3.53001542e-02  3.03261681e-03 -9.45928600e-03\n",
      " -4.61027808e-02 -4.42722589e-02  5.38877584e-02  7.55792158e-03\n",
      "  9.69522912e-03 -6.64947256e-02 -4.64928001e-02 -1.39162494e-02\n",
      " -6.71305582e-02  5.64384907e-02 -9.78039019e-03 -3.34213376e-02\n",
      " -5.07821888e-03  3.85655425e-02 -2.14208805e-04 -2.98345042e-03\n",
      "  4.00845036e-02 -2.18820032e-02 -2.26990394e-02 -2.10872218e-02\n",
      " -1.75602175e-02 -4.33976874e-02  4.76609319e-02  3.14328186e-02\n",
      " -9.64362174e-02 -4.05574180e-02  8.67180899e-03  4.71010804e-02\n",
      " -1.80700645e-02  3.26679498e-02 -2.54482646e-02  2.21192781e-02\n",
      "  1.01186875e-02  6.67886017e-03 -9.76428986e-02  3.90548967e-02\n",
      "  3.67313735e-02  2.51377542e-02 -8.02436750e-03  1.06902625e-02\n",
      "  7.46940374e-02  1.58638936e-02 -1.08375819e-02  7.89641291e-02\n",
      "  6.87093753e-03 -1.49219874e-02 -3.17098573e-02  7.53767192e-02\n",
      " -2.15725340e-02 -3.31072472e-02 -2.12180205e-02  1.84133723e-02\n",
      "  3.06799635e-02  5.50359720e-03  2.47320696e-03 -3.06353346e-02\n",
      " -1.55879250e-02 -5.25936903e-03  2.88573187e-02  4.24472727e-02\n",
      " -3.81770693e-02 -6.85832277e-03  6.21235929e-03  2.45607607e-02\n",
      "  2.53226198e-02 -1.19639244e-02  4.05818969e-03  3.25597897e-02\n",
      " -3.27068828e-02 -7.42149772e-04  1.45135960e-02  1.76772829e-02\n",
      "  1.97285730e-02 -5.54431453e-02  2.17993967e-02  4.70656827e-02\n",
      "  1.35973254e-02  1.32796867e-02 -1.12737287e-02 -8.26672558e-03\n",
      "  4.15507294e-02  5.67780063e-02 -3.67234880e-03  3.05214077e-02\n",
      "  9.46585741e-03  1.44411959e-02 -7.32780760e-03  5.21178618e-02\n",
      " -2.36604735e-02 -1.22554908e-02 -1.21167256e-02 -5.62021621e-02\n",
      "  5.10442480e-02 -1.57314949e-02 -3.04964203e-02  2.18548272e-02\n",
      "  6.97264373e-02  4.94613200e-02  1.88581608e-02  1.14350850e-02\n",
      " -1.08895205e-01  2.61987112e-02  1.86297018e-02  3.72521318e-02\n",
      " -8.33150838e-03 -6.86415061e-02  9.09423605e-02  1.90484338e-02\n",
      "  9.40248743e-03  1.43173244e-02 -3.92899588e-02 -1.16386779e-01\n",
      " -1.63081326e-02 -1.43387495e-02  3.99929360e-02 -2.75208186e-02\n",
      " -2.04235390e-02  4.21463214e-02  3.29291634e-02  3.03064752e-02\n",
      "  4.36966047e-02  2.70549208e-02  3.98235880e-02 -3.04940157e-02\n",
      " -6.05147555e-02  2.98757385e-02  8.81992187e-03 -1.45076942e-02\n",
      " -2.05734260e-02  4.90914956e-02 -5.51951192e-02 -4.69803549e-02\n",
      "  2.66995821e-02 -2.26339456e-02  1.60701107e-02 -8.30130279e-03\n",
      "  5.58557659e-02 -1.77072901e-02  3.08782868e-02 -5.74412122e-02\n",
      "  4.62362655e-02 -8.87430646e-03  1.35493716e-02  1.16916765e-02\n",
      " -3.98001261e-02  1.06821917e-01  2.28449143e-02 -4.91708107e-02\n",
      "  5.55046199e-06 -3.05679459e-02  1.63168032e-02 -7.39732338e-03\n",
      "  2.89735850e-02 -4.83289734e-02 -2.53268182e-02 -9.03178379e-03\n",
      " -2.67899837e-02  2.96980026e-03  4.14515436e-02 -4.60081846e-02\n",
      "  1.95817631e-02  8.75598788e-02 -9.89720132e-03  7.66046867e-02\n",
      "  3.55182402e-02 -1.62920021e-02  3.27803753e-02  2.18674634e-02\n",
      " -5.79261668e-02  1.83149073e-02  1.76444650e-02 -3.75730507e-02\n",
      "  7.33441068e-03  1.24413222e-02 -5.21209128e-02 -5.20945787e-02\n",
      " -4.39663827e-02 -1.25205237e-02  6.98418543e-02  4.09871005e-02\n",
      " -1.89028718e-02  2.28008404e-02  1.62775870e-02 -5.25523024e-03\n",
      " -1.79069415e-02 -7.27084801e-02 -3.39107700e-02  1.57095352e-03\n",
      " -3.89959035e-03  6.05237111e-02  3.40655111e-02 -3.28067457e-03\n",
      " -1.78599544e-03  1.45441517e-02 -3.51327099e-03  1.60606520e-04\n",
      "  4.86832820e-02 -1.25335921e-02 -3.06665469e-02 -7.29336543e-03\n",
      " -3.98461297e-02  3.17222513e-02 -3.02351285e-02 -5.55928499e-02\n",
      "  5.17934747e-02 -7.77923763e-02  1.21128848e-02 -7.96704218e-02\n",
      " -3.93595658e-02 -1.35960933e-02 -2.64469534e-02  7.29053095e-03\n",
      "  3.88254337e-02 -2.03495994e-02  4.65514660e-02 -3.83241996e-02\n",
      " -1.80575124e-03  2.61564925e-02  3.47953029e-02 -3.16090174e-02\n",
      " -2.44872402e-02 -4.46214667e-03 -2.80023534e-02  4.00740467e-03\n",
      "  1.22526055e-02 -1.54484147e-02 -1.72957834e-02 -3.58058624e-02\n",
      " -2.12514758e-01  1.39055764e-02  2.60770712e-02 -2.48516910e-02\n",
      "  3.33924592e-02  3.81687656e-03  6.46124929e-02 -2.74581332e-02\n",
      " -2.69015064e-03  1.67119838e-02 -6.04088232e-03 -3.34078856e-02\n",
      "  3.75488959e-02  1.95330512e-02  2.76040193e-02 -1.71521455e-02\n",
      "  5.87497512e-03 -2.46770028e-02 -6.51091617e-03  3.79956067e-02\n",
      " -4.07044456e-04 -6.39138147e-02 -2.59316135e-02  6.38775975e-02\n",
      "  4.32177037e-02  1.98435858e-02 -5.83172143e-02  5.78608131e-03\n",
      " -6.21541068e-02  1.25492560e-02  1.03593990e-02 -2.70549189e-02\n",
      "  2.12975293e-02  1.69410538e-02 -2.84103826e-02 -1.38534755e-02\n",
      "  1.46146035e-02 -1.89706348e-02  2.08879933e-02  4.05671783e-02\n",
      " -5.22207411e-04 -1.95464529e-02  1.97920352e-02 -3.68227214e-02\n",
      "  6.49563745e-02  2.88800038e-02 -6.28095716e-02  2.90260725e-02\n",
      "  3.68840583e-02  2.77097076e-02  1.86677501e-02 -7.78173126e-05\n",
      " -1.37508130e-02  5.23143448e-02 -1.38870822e-02 -8.15447047e-03\n",
      "  6.14386005e-03 -2.78734285e-02 -3.21959071e-02 -4.90094833e-02\n",
      " -2.38999408e-02 -5.71307912e-03 -2.99413223e-02 -3.29742432e-02\n",
      " -4.99375984e-02 -7.17791095e-02 -5.87481819e-02 -1.30418716e-02\n",
      "  4.91442569e-02  1.98829547e-02 -2.07721610e-02  3.10883727e-02\n",
      "  1.66816562e-02 -6.83933049e-02 -3.26135196e-02 -5.33308042e-03\n",
      " -2.54484490e-02  2.43993737e-02  2.13563982e-02  5.04871905e-02\n",
      " -1.91558339e-02 -1.75135061e-02  2.06546858e-02  6.44185161e-03\n",
      "  2.79679801e-02 -3.79104428e-02 -1.38351796e-02 -1.63830904e-04\n",
      " -5.37554920e-02 -3.22204717e-02  3.86087969e-02 -5.57160471e-03\n",
      " -2.35447101e-02  3.74599695e-02  2.69480627e-02  4.02934067e-02\n",
      "  2.63046548e-02 -9.60699096e-03  2.01679245e-02 -1.22197755e-02\n",
      "  2.91432403e-02 -5.62076755e-02  8.48942101e-02 -2.17741709e-02\n",
      " -3.14488485e-02  3.80269415e-03 -1.88665185e-02  1.06720915e-02\n",
      "  4.42712829e-02 -2.69405693e-02  1.58344451e-02 -6.22224808e-02\n",
      " -8.12321529e-03 -3.00501958e-02  3.06157186e-03 -1.53621817e-02\n",
      " -5.18143503e-03  2.13930663e-02 -4.13295403e-02 -3.62200066e-02\n",
      " -4.18087542e-02  1.84277892e-02 -2.90711522e-02 -5.30716553e-02\n",
      " -6.87055588e-02 -1.16317868e-02 -4.41074371e-03 -1.91585459e-02\n",
      "  4.66833310e-03  1.78346075e-02 -2.48698499e-02 -2.00319896e-03\n",
      "  2.23688632e-02  9.98059753e-03  2.02464536e-02  4.05027196e-02\n",
      " -1.48020145e-02 -4.45942245e-02  1.36280032e-02 -1.12111052e-03\n",
      " -1.96197769e-03  2.22448111e-02  2.01704795e-04  1.29515575e-02\n",
      "  3.69162671e-02  3.67417522e-02 -5.71665028e-03 -3.12212184e-02\n",
      " -2.19553076e-02  2.88575068e-02  7.63251185e-02 -4.94850799e-02\n",
      "  1.05879409e-02 -4.03318740e-02 -3.57039757e-02 -1.34079030e-03\n",
      "  7.67984465e-02  6.91070920e-03 -5.14875762e-02 -1.12057803e-02\n",
      "  1.17522734e-03 -1.10480376e-02 -4.23961617e-02  2.85064112e-02\n",
      " -5.99978631e-03  5.54642640e-02 -4.10436913e-02 -6.66698907e-03\n",
      "  2.26053745e-02  1.60064467e-03 -3.25864740e-03 -2.87441835e-02\n",
      " -3.34900767e-02  3.84949381e-03  2.99049877e-02 -2.23328061e-02\n",
      " -4.10797521e-02 -3.00476123e-02  2.38528159e-02  9.90347005e-03\n",
      " -1.81529000e-02 -2.53487360e-02 -2.65006050e-02  3.05745564e-02\n",
      "  5.24496622e-02 -1.59606114e-02  2.13655178e-02 -2.23159585e-02\n",
      "  1.49121892e-03  4.13446985e-02 -1.83598977e-02  1.83606464e-02\n",
      " -3.95448995e-04  4.91624372e-03 -6.17639497e-02 -5.23812883e-02\n",
      "  7.65813654e-03  3.34111080e-02  3.01362085e-03  5.86792827e-02\n",
      "  4.97065485e-04 -1.00349160e-02 -1.87903028e-02  1.04538596e-03\n",
      "  4.52529974e-02 -6.81581721e-02  2.76628546e-02 -1.52732842e-02\n",
      " -1.41439093e-02  7.06385029e-03  1.62333460e-03 -1.71895698e-02\n",
      " -6.36174381e-02  1.73972305e-02  2.58035511e-02 -6.46570846e-02\n",
      " -9.24770720e-03 -4.07928601e-02  1.35041056e-02 -1.54342894e-02\n",
      "  1.82592999e-02 -1.28137274e-03 -3.56082479e-03 -5.19449078e-02\n",
      " -2.36999467e-02  4.79885191e-02 -9.79791861e-03  5.53470897e-03\n",
      " -2.27062777e-03 -4.02954109e-02  2.70588137e-02 -3.05767898e-02\n",
      "  1.21266330e-02  7.26082772e-02 -1.13525195e-02  3.41196032e-03\n",
      " -4.41035852e-02 -3.07535082e-02 -1.46646658e-02  4.48276997e-02\n",
      " -2.75637442e-03 -4.83943373e-02 -1.90534480e-02 -1.69710666e-02\n",
      " -3.86979394e-02  5.88541776e-02  5.52887004e-03 -4.37380187e-02\n",
      "  9.32656508e-03  4.93308119e-02 -1.48788970e-02  3.77380773e-02\n",
      " -6.39879704e-02  2.02804562e-02  7.47530907e-02  1.86399408e-02\n",
      " -2.45038792e-02 -1.86350173e-03 -4.71463241e-02 -3.39244939e-02\n",
      "  6.29561627e-03 -2.31855493e-02 -3.01147848e-02  7.99783990e-02\n",
      " -1.55678636e-03  2.95523666e-02 -2.14424916e-02  2.63977703e-02\n",
      "  4.45321128e-02 -2.93012727e-02  5.30397259e-02 -9.23440605e-02\n",
      " -4.84870709e-02 -7.35404296e-03  3.05049177e-02  1.89811178e-02\n",
      " -4.85808291e-02 -2.72062905e-02  2.16642078e-02 -6.70398772e-02\n",
      " -1.90035067e-02  2.30749864e-02 -1.18913408e-02  3.38815823e-02\n",
      "  3.03487275e-02  4.22868691e-03 -2.25292370e-02 -4.77112317e-03\n",
      " -6.74216151e-02  1.70523822e-02 -5.87673206e-03  2.65414473e-02\n",
      " -1.97833180e-02  8.74743517e-03  2.12063231e-02  4.60369606e-03\n",
      "  5.39900437e-02  6.32318854e-02  1.86193623e-02  3.84742841e-02\n",
      " -5.03433682e-02  1.15234619e-02  5.17968908e-02 -9.16672312e-03\n",
      "  7.19843956e-04  1.75015386e-02 -5.44744963e-03 -6.08255714e-02\n",
      "  4.89149475e-03 -1.90520864e-02 -4.70193177e-02 -3.54230255e-02\n",
      "  4.86559495e-02  6.06552735e-02 -3.19572687e-02 -6.68989345e-02\n",
      " -1.25640342e-02 -2.53516100e-02 -6.16391096e-03  2.25716643e-02\n",
      "  2.04430316e-02 -1.44672971e-02  8.08835179e-02 -1.47467935e-02\n",
      "  2.03668308e-02  4.72726189e-02 -1.43977832e-02 -1.49487788e-02\n",
      " -1.53977368e-02  9.49657559e-02  9.28669721e-02  1.08183399e-02\n",
      "  4.57311189e-03  3.74360792e-02 -3.29337716e-02 -7.24691749e-02\n",
      "  1.98989734e-02  1.21000679e-02 -2.87591144e-02  1.42649543e-02\n",
      " -2.30221227e-02  6.52174056e-02 -1.26021039e-02  5.18476628e-02\n",
      " -3.02837286e-02  5.93763776e-04  4.28299494e-02  3.26157585e-02\n",
      "  3.18044834e-02  3.85963954e-02  3.01346518e-02  2.96124890e-02\n",
      "  3.06964051e-02 -6.35016486e-02  3.52189504e-02 -2.02615727e-02\n",
      " -8.30074120e-03  3.32039557e-02 -9.09592770e-03  4.67524752e-02\n",
      " -1.01688374e-02  5.26039302e-02  7.34853745e-02 -2.32723597e-02\n",
      " -1.58046298e-02 -8.58978461e-03  2.22184658e-02 -1.80774629e-02\n",
      "  4.41509895e-02 -3.79764615e-03 -2.84234149e-04  9.98082571e-03\n",
      " -3.92026752e-02 -7.80515373e-03 -6.87591312e-03  1.67721938e-02\n",
      "  3.63338143e-02  3.34754549e-02  1.40006430e-02  3.28419395e-02\n",
      "  3.78904007e-02 -5.86346313e-02 -6.26502857e-02 -5.12313703e-03\n",
      " -2.20010858e-02 -4.37449552e-02  4.33528610e-03  1.84321478e-02\n",
      "  4.34374530e-03 -2.35605780e-02 -2.24962849e-02 -2.84244474e-02\n",
      " -2.58885883e-02  3.38412188e-02 -5.35658635e-02 -7.66651297e-04\n",
      "  9.05216765e-03  4.55216914e-02  5.29527590e-02  2.38019992e-02\n",
      "  5.73150739e-02 -3.91792394e-02  1.94921866e-02 -2.75501627e-02\n",
      "  2.33608074e-02  4.33050245e-02  5.95738254e-02 -1.24005089e-03\n",
      " -7.73453191e-02 -1.09392554e-02  2.55370270e-02 -2.30197515e-02\n",
      " -7.97771737e-02  4.74385843e-02 -1.91667341e-02 -3.90840275e-03\n",
      "  1.43864034e-02  6.62466418e-03  1.84353013e-02 -3.56957167e-02\n",
      " -3.74739021e-02 -9.02710296e-03 -1.22789256e-02  2.23594680e-02\n",
      " -4.20266055e-02  4.60952856e-02  2.91547682e-02  4.09004129e-02\n",
      " -4.19467986e-02  2.58821491e-02  2.96125356e-02  2.02298071e-02\n",
      " -6.00984767e-02 -5.04149124e-02 -3.56564857e-02 -6.30194917e-02\n",
      " -7.74064334e-04  1.02993883e-02 -5.96026285e-03 -4.11836766e-02\n",
      "  4.26441617e-02  1.84312332e-02 -2.76001310e-03  1.39628006e-02\n",
      " -2.37449016e-02  4.09376994e-02 -4.79674749e-02 -3.86880785e-02\n",
      " -6.17517792e-02  3.33756879e-02  4.71680425e-02  3.72288004e-03\n",
      " -2.45269365e-03 -5.79628535e-02  4.10864595e-03 -5.13899215e-02\n",
      " -4.78793692e-04  2.14718413e-02  3.89165282e-02 -1.26432264e-02]\n"
     ]
    },
    {
     "name": "stderr",
     "output_type": "stream",
     "text": [
      "\n"
     ]
    },
    {
     "data": {
      "text/plain": [
       "((809, 768), numpy.ndarray)"
      ]
     },
     "execution_count": 70,
     "metadata": {},
     "output_type": "execute_result"
    }
   ],
   "source": [
    "# Embed all texts in batches\n",
    "text_chunks = [item['sentence_chunk'] for item in pages_and_chunks_over_min_len]\n",
    "# print(len(text_chunks),text_chunks[1])\n",
    "text_chunk_embeddings = embedding_model.encode(text_chunks,\n",
    "                                               batch_size=16, # you can use different batch sizes here for speed/performance, I found 16 works well for this use case\n",
    "                                               convert_to_tensor=True) # optional to return embeddings as tensor instead of array\n",
    "\n",
    "# print(text_chunk_embeddings[1])\n",
    "# text_chunk_embeddings.shape, type(text_chunk_embeddings)\n"
   ]
  },
  {
   "cell_type": "code",
   "execution_count": 71,
   "metadata": {},
   "outputs": [],
   "source": [
    "#save embeddings to csv file\n",
    "text_chunks_and_embeddings_df = pd.DataFrame(pages_and_chunks_over_min_len)\n",
    "embeddings_df_save_path = 'c172_embeddings.csv'\n",
    "text_chunks_and_embeddings_df.to_csv(embeddings_df_save_path, index=False)\n"
   ]
  },
  {
   "cell_type": "code",
   "execution_count": 72,
   "metadata": {},
   "outputs": [
    {
     "data": {
      "text/html": [
       "<div>\n",
       "<style scoped>\n",
       "    .dataframe tbody tr th:only-of-type {\n",
       "        vertical-align: middle;\n",
       "    }\n",
       "\n",
       "    .dataframe tbody tr th {\n",
       "        vertical-align: top;\n",
       "    }\n",
       "\n",
       "    .dataframe thead th {\n",
       "        text-align: right;\n",
       "    }\n",
       "</style>\n",
       "<table border=\"1\" class=\"dataframe\">\n",
       "  <thead>\n",
       "    <tr style=\"text-align: right;\">\n",
       "      <th></th>\n",
       "      <th>page_number</th>\n",
       "      <th>sentence_chunk</th>\n",
       "      <th>chunk_token_count</th>\n",
       "    </tr>\n",
       "  </thead>\n",
       "  <tbody>\n",
       "    <tr>\n",
       "      <th>0</th>\n",
       "      <td>-41</td>\n",
       "      <td>CESSNA MODEL 172S NOTICE INTRODUCTION AT THE T...</td>\n",
       "      <td>159.75</td>\n",
       "    </tr>\n",
       "    <tr>\n",
       "      <th>1</th>\n",
       "      <td>-40</td>\n",
       "      <td>INTRODUCTION CESSNA MODEL 172S PERFORMANCE - S...</td>\n",
       "      <td>366.50</td>\n",
       "    </tr>\n",
       "    <tr>\n",
       "      <th>2</th>\n",
       "      <td>-39</td>\n",
       "      <td>CESSNA MODEL 172S INTRODUCTION PERFORMANCE - S...</td>\n",
       "      <td>278.25</td>\n",
       "    </tr>\n",
       "    <tr>\n",
       "      <th>3</th>\n",
       "      <td>-37</td>\n",
       "      <td>CESSNA MODEL 172S INTRODUCTION Information Man...</td>\n",
       "      <td>90.50</td>\n",
       "    </tr>\n",
       "    <tr>\n",
       "      <th>4</th>\n",
       "      <td>-35</td>\n",
       "      <td>CESSNA MODEL 172S INTRODUCTION TABLE OF CONTEN...</td>\n",
       "      <td>147.50</td>\n",
       "    </tr>\n",
       "  </tbody>\n",
       "</table>\n",
       "</div>"
      ],
      "text/plain": [
       "   page_number                                     sentence_chunk  \\\n",
       "0          -41  CESSNA MODEL 172S NOTICE INTRODUCTION AT THE T...   \n",
       "1          -40  INTRODUCTION CESSNA MODEL 172S PERFORMANCE - S...   \n",
       "2          -39  CESSNA MODEL 172S INTRODUCTION PERFORMANCE - S...   \n",
       "3          -37  CESSNA MODEL 172S INTRODUCTION Information Man...   \n",
       "4          -35  CESSNA MODEL 172S INTRODUCTION TABLE OF CONTEN...   \n",
       "\n",
       "   chunk_token_count  \n",
       "0             159.75  \n",
       "1             366.50  \n",
       "2             278.25  \n",
       "3              90.50  \n",
       "4             147.50  "
      ]
     },
     "execution_count": 72,
     "metadata": {},
     "output_type": "execute_result"
    }
   ],
   "source": [
    "#load df from csv\n",
    "text_chunks_and_embeddings_df_load = pd.read_csv(embeddings_df_save_path)\n",
    "text_chunks_and_embeddings_df_load.head()"
   ]
  },
  {
   "cell_type": "code",
   "execution_count": 73,
   "metadata": {},
   "outputs": [],
   "source": [
    "import mlx.core as mx\n",
    "import mlx.nn as nn\n",
    "import numpy as np"
   ]
  },
  {
   "cell_type": "code",
   "execution_count": 74,
   "metadata": {},
   "outputs": [],
   "source": [
    "#alternatively store just the embedding array to npy\n",
    "np.save('text_chunk_embeddings.npy', text_chunk_embeddings)\n"
   ]
  },
  {
   "cell_type": "code",
   "execution_count": 75,
   "metadata": {},
   "outputs": [],
   "source": [
    "#load the embeddings to avoid creating again \n",
    "embeddings = mx.load('text_chunk_embeddings.npy')"
   ]
  },
  {
   "cell_type": "code",
   "execution_count": 77,
   "metadata": {},
   "outputs": [],
   "source": [
    "#save embeddings to file\n",
    "import pandas as pd\n",
    "text_chunks_and_embeddings_df = pd.DataFrame(pages_and_chunks_over_min_len)\n",
    "embeddings_df_save_path = 'c172_embeddings.csv'\n",
    "text_chunks_and_embeddings_df.to_csv(embeddings_df_save_path, index=False)\n",
    "text_chunks_and_embeddings_df = pd.read_csv('c172_embeddings.csv')\n",
    "#convert to numpy array \n",
    "text_chunks_and_embeddings_df['embedding'] = [emb.tolist() for emb in embeddings]\n",
    "# text_chunks_and_embeddings_df['embedding'] = text_chunks_and_embeddings_df['embedding'].apply(lambda x: np.fromstring(x.strip('[]'), sep = ' ', dtype=float))\n",
    "#convert dataframe to list of dicts\n",
    "pages_and_chunks = text_chunks_and_embeddings_df.to_dict('records')\n",
    "#get just embedding array as mx array\n",
    "# embeddings = mx.array(np.array(text_chunks_and_embeddings_df['embedding'].tolist())) #shape (1681, 768)\n",
    "\n",
    "# embeddings.shape"
   ]
  },
  {
   "cell_type": "code",
   "execution_count": 78,
   "metadata": {},
   "outputs": [],
   "source": [
    "def get_results(query:str, embeddings:mx.array, n:int)->tuple[list]:\n",
    "    query = [query] #convert to list for model compatibility\n",
    "    #embed query with same model as the passages/document\n",
    "    query_embedding = mx.array(embedding_model.encode(query))\n",
    "    #calculate dot product between query and passages/document or use cosine similarity if model not normalised\n",
    "    cosine_scores = nn.losses.cosine_similarity_loss(query_embedding, embeddings)\n",
    "    top_results = mx.topk(cosine_scores, k=n)[::-1] #largest to smallest\n",
    "    top_indices = mx.argpartition(cosine_scores, -n)[-n:][::-1] #argpartition seems to already be sort from smallest to largest\n",
    "    return top_results.tolist(), top_indices.tolist()"
   ]
  },
  {
   "cell_type": "code",
   "execution_count": 79,
   "metadata": {},
   "outputs": [],
   "source": [
    "import textwrap\n",
    "def print_wrapped(text, width = 80):\n",
    "    print(textwrap.fill(text, width))"
   ]
  },
  {
   "cell_type": "code",
   "execution_count": 80,
   "metadata": {},
   "outputs": [],
   "source": [
    "# Automatically Generated Questions related to Cessna 172S POH\n",
    "gpt4_questions = [\n",
    "    \"What are the key performance specifications of the Cessna 172S, and how do they impact flight planning?\",\n",
    "    \"How does the fuel system of the Cessna 172S function, and what are the critical safety considerations?\",\n",
    "    \"Describe the normal operating procedures for the Cessna 172S during takeoff and landing.\",\n",
    "    \"What are the limitations imposed by the Cessna 172S POH for weight and balance, and why are they important?\",\n",
    "    \"Explain the emergency procedures outlined in the Cessna 172S POH for an engine failure during flight.\"\n",
    "]\n",
    "\n",
    "# Manually Created Questions related to Cessna 172S POH\n",
    "manual_questions = [\n",
    "    \"What are the recommended airspeeds for emergency operations in the Cessna 172S?\",\n",
    "    \"How does the Cessna 172S POH suggest handling an engine fire during flight?\",\n",
    "    \"What are the flap limitations for the Cessna 172S, and how should they be used during different phases of flight?\",\n",
    "    \"What are the standard procedures for operating the fuel selector valve on a Cessna 172S during flight?\",\n",
    "    \"How does the Cessna 172S POH define and explain the aircraft's maneuvering speed (VA)?\"\n",
    "]\n",
    "\n",
    "query_list = gpt4_questions + manual_questions"
   ]
  },
  {
   "cell_type": "code",
   "execution_count": 99,
   "metadata": {},
   "outputs": [
    {
     "name": "stderr",
     "output_type": "stream",
     "text": [
      "Fetching 8 files: 100%|██████████| 8/8 [00:00<00:00, 30202.01it/s]\n"
     ]
    },
    {
     "name": "stdout",
     "output_type": "stream",
     "text": [
      "<class 'mlx_lm.tokenizer_utils.TokenizerWrapper'>\n"
     ]
    }
   ],
   "source": [
    "#local llm \n",
    "from mlx_lm import load, generate\n",
    "model, tokenizer = load(\"mlx-community/quantized-gemma-7b-it\")\n"
   ]
  },
  {
   "cell_type": "code",
   "execution_count": 82,
   "metadata": {},
   "outputs": [],
   "source": [
    "def prompt_formatter(query: str, \n",
    "                     context_items: list[dict]) -> str:\n",
    "    \"\"\"\n",
    "    Augments query with text-based context from context_items.\n",
    "    \"\"\"\n",
    "    # Join context items into one dotted paragraph\n",
    "    context = \"- \" + \"\\n- \".join([item[\"sentence_chunk\"] for item in context_items])\n",
    "\n",
    "    # Create a base prompt with examples to help the model\n",
    "    # Note: this is very customizable, I've chosen to use 3 examples of the answer style we'd like.\n",
    "    # We could also write this in a txt file and import it in if we wanted.\n",
    "    base_prompt = \"\"\"Based on the following context items, please answer the query.\n",
    "Give yourself room to think by extracting relevant passages from the context before answering the query.\n",
    "Don't return the thinking, only return the answer.\n",
    "Make sure your answers are as explanatory as possible.\n",
    "Use the following examples as reference for the ideal answer style.\n",
    "\\nExample 1:\n",
    "Query: What are the key performance specifications of the Cessna 172S, and how do they impact flight planning?\n",
    "Answer: The key performance specifications of the Cessna 172S include a maximum speed of 126 knots at sea level, a service ceiling of 14,000 feet, and a rate of climb of 730 feet per minute at sea level. These specifications impact flight planning by determining the range, endurance, and optimal cruising altitude for flights. For instance, the aircraft's range is approximately 518 nautical miles at 75% power, making it suitable for medium-range flights without refueling.\n",
    "\\nExample 2:\n",
    "Query: How does the Cessna 172S fuel system operate, and what are the critical safety considerations?\n",
    "Answer: The Cessna 172S fuel system includes two tanks, one in each wing, with a total capacity of 56 gallons, of which 53 gallons are usable. The system is gravity-fed and includes a selector valve that allows the pilot to draw fuel from either tank or both tanks simultaneously. Critical safety considerations include ensuring the fuel selector is in the \"BOTH\" position during takeoff and landing, monitoring fuel levels carefully, and avoiding prolonged uncoordinated flight when fuel is low, as this could cause engine starvation.\n",
    "\\nExample 3:\n",
    "Query: What are the emergency procedures for an engine failure in a Cessna 172S?\n",
    "Answer: In the event of an engine failure in a Cessna 172S, the pilot should first establish the best glide speed of 68 knots. Then, identify a suitable landing site and prepare for a forced landing. Attempt to restart the engine by switching fuel tanks, setting the mixture to rich, and engaging the starter. If the restart fails, turn off the fuel, master switch, and magnetos, and prepare for landing with flaps as required. The POH outlines these steps in detail under emergency procedures.\n",
    "\\nExample 4:\n",
    "Query: What is the maneuvering speed (VA) of the Cessna 172S, and why is it important?\n",
    "Answer: The maneuvering speed (VA) of the Cessna 172S varies with weight but is typically around 105 knots at maximum gross weight. This speed is important because it represents the maximum speed at which the aircraft can be flown with full, abrupt control inputs without exceeding its structural limits. Flying at or below VA protects the aircraft from structural damage during turbulence or aggressive maneuvers.\n",
    "\\nNow use the following context items to answer the user query:\n",
    "{context}\n",
    "\\nRelevant passages: <extract relevant passages from the context here>\n",
    "User query: {query}\n",
    "Answer:\"\"\"\n",
    "\n",
    "\n",
    "    # Update base prompt with context items and query   \n",
    "    base_prompt = base_prompt.format(context=context, query=query)\n",
    "\n",
    "    # Create prompt template for instruction-tuned model\n",
    "    dialogue_template = [\n",
    "        {\"role\": \"user\",\n",
    "        \"content\": base_prompt}\n",
    "    ]\n",
    "\n",
    "    # Apply the chat template\n",
    "    prompt = tokenizer.apply_chat_template(conversation=dialogue_template,\n",
    "                                          tokenize=False,\n",
    "                                          add_generation_prompt=True)\n",
    "    # prompt = base_prompt\n",
    "    return prompt"
   ]
  },
  {
   "cell_type": "code",
   "execution_count": 96,
   "metadata": {},
   "outputs": [
    {
     "name": "stdout",
     "output_type": "stream",
     "text": [
      "Query: What are the standard procedures for operating the fuel selector valve on a Cessna 172S during flight?\n",
      "query='What are the standard procedures for operating the fuel selector valve on a Cessna 172S during flight?', embeddings=array([[-0.0305906, 0.0159667, -0.0407652, ..., 0.00859571, 0.00298534, -0.0109268],\n",
      "       [0.0147708, 0.00308183, 0.0187444, ..., 0.0214718, 0.0389165, -0.0126432],\n",
      "       [0.0232945, 0.0323477, -0.00277491, ..., -0.0187079, 0.0429621, -0.0249111],\n",
      "       ...,\n",
      "       [-0.00185245, 0.0243362, -0.0221245, ..., -0.00377295, 0.0356885, -0.0181716],\n",
      "       [0.0102832, 0.0152642, -0.0152659, ..., 0.00589541, 0.0484961, -0.0434573],\n",
      "       [0.0047273, 0.0283591, -0.0471328, ..., 0.0211699, 0.0347227, -0.0170642]], dtype=float32)\n"
     ]
    },
    {
     "name": "stderr",
     "output_type": "stream",
     "text": [
      "100%|██████████| 1/1 [00:00<00:00, 19.99it/s, seq_len=16]"
     ]
    },
    {
     "name": "stdout",
     "output_type": "stream",
     "text": [
      "[0.7942339777946472, 0.792177140712738, 0.7763713002204895, 0.7750421166419983, 0.770821213722229] [156, 319, 78, 158, 321]\n",
      "45,Fuel Selector Valve -- BOTH. 9.  Fuel Shutoff Valve -- ON (push full in). 10.  Avionics Circuit Breakers -- CHECK IN. Revision 4 4-11\n",
      "146,SECTION 7 CESSNA MODEL 172S AIRPLANE & SYSTEMS DESCRIPTION FUEL VENTING Fuel system venting is essential to system operation.  Blockage of the system will result in decreasing fuel flow and eventual engine stoppage.  Venting is accomplished by an interconnecting line from the right fuel tank to the left tank.  The left fuel tank is vented overboard through a vent line, equipped with a check valve, which protrudes from the bottom surface of the left wing near the wing strut.  Both fuel filler caps are also vented. REDUCED TANK CAPACITY The airplane may be serviced to a reduced capacity to permit heavier cabin loadings.  This is accomplished by filling each tank to the bottom edge of the fuel filler tab, thus giving a reduced fuel load of 17.5 gallons usable in each tank. FUEL SELECTOR VALVE The fuel selector valve should be in the BOTH position for takeoff, climb, landing, and maneuvers that involve prolonged slips or skids of more than 30 seconds.  Operation from either LEFT or RIGHT tank is reserved for cruising flight. 7-26 NOTE When the fuel selector valve handle is in the BOTH position in cruising flight, unequal fuel flow from each tank may occur if the wings are not maintained exactly level.\n",
      "15,CESSNA MODEL 172S SECTION 3 EMERGENCY PROCEDURES ENGINE FAILURE DURING FLIGHT (Restart Procedures) 1 .  Airspeed -- 68 KIAS. 2.  Fuel Shutoff Valve -- ON (push full in). 3.  Fuel Selector Valve -- BOTH. 4.  Auxiliary Fuel Pump Switch -- ON. 5.  Mixture -- RICH (if restart has not occurred).\n",
      "46,NOTE CESSNA MODEL 172S If engine is warm, omit priming procedure of steps 6, 7 and 8 below. 6.  Auxiliary Fuel Pump Switch -- ON. 7.  Mixture -- SET to FULL RICH (full forward) until stable fuel flow is indicated (usually 3 to 5 seconds), then set to IDLE CUTOFF (full aft) position. 8.  Auxiliary Fuel Pump Switch -- OFF. 9.  Ignition Switch -- START (release when engine starts). 10.\n",
      "147,CESSNA MODEL 172S LEFT FUEL TANK VENT (WITH CHECK VALVE) DRAIN VALVES (5 TOTAL) SECTION 7 AIRPLANE & SYSTEMS DESCRIPTION FUEL QUANTITY INDICATORS FUEL RESERVOIR TANK DRAIN RIGHT FUEL TANK VALVE KNOB - - - FUEL SHUTOFF-o I I I Revision 4 LEGEND FUEL SUPPLY VENT MECHANICAL LINKAGE ELECTRICAL CONNECTION Figure 7-6.  Fuel System Schematic (Sheet 1 of 2) 172S8001 thru 172S9490 0585C1013 I 7-27/7-27A\n"
     ]
    },
    {
     "name": "stderr",
     "output_type": "stream",
     "text": [
      "\n"
     ]
    }
   ],
   "source": [
    "import random\n",
    "query = random.choice(query_list)\n",
    "print(f\"Query: {query}\")\n",
    "\n",
    "# Get relevant resources\n",
    "scores, indices = get_results(query=query, embeddings=embeddings, n = 5)\n",
    "# print(scores, indices)\n",
    "# Create a list of context items\n",
    "context_items = [pages_and_chunks[i] for i in indices]\n",
    "\n",
    "# Format prompt with context items\n",
    "prompt = prompt_formatter(query=query,\n",
    "                          context_items=context_items)\n",
    "# print(context_items)\n",
    "print('\\n'.join([f\"{i['page_number']},{i['sentence_chunk']}\" for i in context_items]))"
   ]
  },
  {
   "cell_type": "code",
   "execution_count": 97,
   "metadata": {},
   "outputs": [
    {
     "name": "stdout",
     "output_type": "stream",
     "text": [
      "==========\n",
      "Prompt: <start_of_turn>user\n",
      "Based on the following context items, please answer the query.\n",
      "Give yourself room to think by extracting relevant passages from the context before answering the query.\n",
      "Don't return the thinking, only return the answer.\n",
      "Make sure your answers are as explanatory as possible.\n",
      "Use the following examples as reference for the ideal answer style.\n",
      "\n",
      "Example 1:\n",
      "Query: What are the key performance specifications of the Cessna 172S, and how do they impact flight planning?\n",
      "Answer: The key performance specifications of the Cessna 172S include a maximum speed of 126 knots at sea level, a service ceiling of 14,000 feet, and a rate of climb of 730 feet per minute at sea level. These specifications impact flight planning by determining the range, endurance, and optimal cruising altitude for flights. For instance, the aircraft's range is approximately 518 nautical miles at 75% power, making it suitable for medium-range flights without refueling.\n",
      "\n",
      "Example 2:\n",
      "Query: How does the Cessna 172S fuel system operate, and what are the critical safety considerations?\n",
      "Answer: The Cessna 172S fuel system includes two tanks, one in each wing, with a total capacity of 56 gallons, of which 53 gallons are usable. The system is gravity-fed and includes a selector valve that allows the pilot to draw fuel from either tank or both tanks simultaneously. Critical safety considerations include ensuring the fuel selector is in the \"BOTH\" position during takeoff and landing, monitoring fuel levels carefully, and avoiding prolonged uncoordinated flight when fuel is low, as this could cause engine starvation.\n",
      "\n",
      "Example 3:\n",
      "Query: What are the emergency procedures for an engine failure in a Cessna 172S?\n",
      "Answer: In the event of an engine failure in a Cessna 172S, the pilot should first establish the best glide speed of 68 knots. Then, identify a suitable landing site and prepare for a forced landing. Attempt to restart the engine by switching fuel tanks, setting the mixture to rich, and engaging the starter. If the restart fails, turn off the fuel, master switch, and magnetos, and prepare for landing with flaps as required. The POH outlines these steps in detail under emergency procedures.\n",
      "\n",
      "Example 4:\n",
      "Query: What is the maneuvering speed (VA) of the Cessna 172S, and why is it important?\n",
      "Answer: The maneuvering speed (VA) of the Cessna 172S varies with weight but is typically around 105 knots at maximum gross weight. This speed is important because it represents the maximum speed at which the aircraft can be flown with full, abrupt control inputs without exceeding its structural limits. Flying at or below VA protects the aircraft from structural damage during turbulence or aggressive maneuvers.\n",
      "\n",
      "Now use the following context items to answer the user query:\n",
      "- Fuel Selector Valve -- BOTH. 9.  Fuel Shutoff Valve -- ON (push full in). 10.  Avionics Circuit Breakers -- CHECK IN. Revision 4 4-11\n",
      "- SECTION 7 CESSNA MODEL 172S AIRPLANE & SYSTEMS DESCRIPTION FUEL VENTING Fuel system venting is essential to system operation.  Blockage of the system will result in decreasing fuel flow and eventual engine stoppage.  Venting is accomplished by an interconnecting line from the right fuel tank to the left tank.  The left fuel tank is vented overboard through a vent line, equipped with a check valve, which protrudes from the bottom surface of the left wing near the wing strut.  Both fuel filler caps are also vented. REDUCED TANK CAPACITY The airplane may be serviced to a reduced capacity to permit heavier cabin loadings.  This is accomplished by filling each tank to the bottom edge of the fuel filler tab, thus giving a reduced fuel load of 17.5 gallons usable in each tank. FUEL SELECTOR VALVE The fuel selector valve should be in the BOTH position for takeoff, climb, landing, and maneuvers that involve prolonged slips or skids of more than 30 seconds.  Operation from either LEFT or RIGHT tank is reserved for cruising flight. 7-26 NOTE When the fuel selector valve handle is in the BOTH position in cruising flight, unequal fuel flow from each tank may occur if the wings are not maintained exactly level.\n",
      "- CESSNA MODEL 172S SECTION 3 EMERGENCY PROCEDURES ENGINE FAILURE DURING FLIGHT (Restart Procedures) 1 .  Airspeed -- 68 KIAS. 2.  Fuel Shutoff Valve -- ON (push full in). 3.  Fuel Selector Valve -- BOTH. 4.  Auxiliary Fuel Pump Switch -- ON. 5.  Mixture -- RICH (if restart has not occurred).\n",
      "- NOTE CESSNA MODEL 172S If engine is warm, omit priming procedure of steps 6, 7 and 8 below. 6.  Auxiliary Fuel Pump Switch -- ON. 7.  Mixture -- SET to FULL RICH (full forward) until stable fuel flow is indicated (usually 3 to 5 seconds), then set to IDLE CUTOFF (full aft) position. 8.  Auxiliary Fuel Pump Switch -- OFF. 9.  Ignition Switch -- START (release when engine starts). 10.\n",
      "- CESSNA MODEL 172S LEFT FUEL TANK VENT (WITH CHECK VALVE) DRAIN VALVES (5 TOTAL) SECTION 7 AIRPLANE & SYSTEMS DESCRIPTION FUEL QUANTITY INDICATORS FUEL RESERVOIR TANK DRAIN RIGHT FUEL TANK VALVE KNOB - - - FUEL SHUTOFF-o I I I Revision 4 LEGEND FUEL SUPPLY VENT MECHANICAL LINKAGE ELECTRICAL CONNECTION Figure 7-6.  Fuel System Schematic (Sheet 1 of 2) 172S8001 thru 172S9490 0585C1013 I 7-27/7-27A\n",
      "\n",
      "Relevant passages: <extract relevant passages from the context here>\n",
      "User query: What are the standard procedures for operating the fuel selector valve on a Cessna 172S during flight?\n",
      "Answer:<end_of_turn>\n",
      "<start_of_turn>model\n",
      "\n",
      "**Answer:**\n",
      "\n",
      "The standard procedures for operating the fuel selector valve on a Cessna 172S during flight are as follows:\n",
      "\n",
      "* **Takeoff, climb, landing, and maneuvers:** The fuel selector valve should be in the BOTH position for takeoff, climb, landing, and maneuvers that involve prolonged slips or skids of more than 30 seconds.\n",
      "* **Cruising flight:** Operation from either LEFT or RIGHT tank is reserved for cruising flight.\n",
      "* **Unequal fuel flow:** When the fuel selector valve handle is in the BOTH position in cruising flight, unequal fuel flow from each tank may occur if the wings are not maintained exactly level.\n",
      "\n",
      "Therefore, it is important to ensure that the fuel selector valve is in the correct position for the specific flight maneuver to ensure proper fuel flow and avoid potential engine starvation.\n",
      "==========\n",
      "Prompt: 1296 tokens, 171.468 tokens-per-sec\n",
      "Generation: 169 tokens, 20.442 tokens-per-sec\n",
      "Peak memory: 14.695 GB\n",
      "time taken for generation = 15.793419292022008s\n"
     ]
    }
   ],
   "source": [
    "#local llm \n",
    "import time\n",
    "t = time.perf_counter()\n",
    "response = generate(model, tokenizer, prompt=prompt, verbose=True, max_tokens = 200)\n",
    "# print(response)\n",
    "print(f\"time taken for generation = {time.perf_counter()-t}s\")"
   ]
  },
  {
   "cell_type": "code",
   "execution_count": 91,
   "metadata": {},
   "outputs": [],
   "source": [
    "def ask(query:str)->str:\n",
    "    '''A utility function'''\n",
    "    # Get relevant resources\n",
    "    scores, indices = get_results(query=query, embeddings=embeddings, n = 5)\n",
    "    # Create a list of context items\n",
    "    context_items = [pages_and_chunks[i] for i in indices]\n",
    "    # Format prompt with context items\n",
    "    prompt = prompt_formatter(query=query,\n",
    "                            context_items=context_items)\n",
    "    response = generate(model, tokenizer,temp=0.7, prompt=prompt, verbose=True, max_tokens = 200)\n",
    "    return response"
   ]
  },
  {
   "cell_type": "code",
   "execution_count": 106,
   "metadata": {},
   "outputs": [
    {
     "name": "stdout",
     "output_type": "stream",
     "text": [
      "query='What are the standard procedures for operating the fuel selector valve on a Cessna 172S during flight', embeddings=array([[-0.0305906, 0.0159667, -0.0407652, ..., 0.00859571, 0.00298534, -0.0109268],\n",
      "       [0.0147708, 0.00308183, 0.0187444, ..., 0.0214718, 0.0389165, -0.0126432],\n",
      "       [0.0232945, 0.0323477, -0.00277491, ..., -0.0187079, 0.0429621, -0.0249111],\n",
      "       ...,\n",
      "       [-0.00185245, 0.0243362, -0.0221245, ..., -0.00377295, 0.0356885, -0.0181716],\n",
      "       [0.0102832, 0.0152642, -0.0152659, ..., 0.00589541, 0.0484961, -0.0434573],\n",
      "       [0.0047273, 0.0283591, -0.0471328, ..., 0.0211699, 0.0347227, -0.0170642]], dtype=float32)\n"
     ]
    },
    {
     "name": "stderr",
     "output_type": "stream",
     "text": [
      "100%|██████████| 1/1 [00:00<00:00,  3.32it/s, seq_len=16]\n"
     ]
    },
    {
     "name": "stdout",
     "output_type": "stream",
     "text": [
      "[156, 319, 78, 158, 321]=\n",
      "==========\n",
      "Prompt: <start_of_turn>user\n",
      "Based on the following context items, please answer the query.\n",
      "Give yourself room to think by extracting relevant passages from the context before answering the query.\n",
      "Don't return the thinking, only return the answer.\n",
      "Make sure your answers are as explanatory as possible.\n",
      "Use the following examples as reference for the ideal answer style.\n",
      "\n",
      "Example 1:\n",
      "Query: What are the key performance specifications of the Cessna 172S, and how do they impact flight planning?\n",
      "Answer: The key performance specifications of the Cessna 172S include a maximum speed of 126 knots at sea level, a service ceiling of 14,000 feet, and a rate of climb of 730 feet per minute at sea level. These specifications impact flight planning by determining the range, endurance, and optimal cruising altitude for flights. For instance, the aircraft's range is approximately 518 nautical miles at 75% power, making it suitable for medium-range flights without refueling.\n",
      "\n",
      "Example 2:\n",
      "Query: How does the Cessna 172S fuel system operate, and what are the critical safety considerations?\n",
      "Answer: The Cessna 172S fuel system includes two tanks, one in each wing, with a total capacity of 56 gallons, of which 53 gallons are usable. The system is gravity-fed and includes a selector valve that allows the pilot to draw fuel from either tank or both tanks simultaneously. Critical safety considerations include ensuring the fuel selector is in the \"BOTH\" position during takeoff and landing, monitoring fuel levels carefully, and avoiding prolonged uncoordinated flight when fuel is low, as this could cause engine starvation.\n",
      "\n",
      "Example 3:\n",
      "Query: What are the emergency procedures for an engine failure in a Cessna 172S?\n",
      "Answer: In the event of an engine failure in a Cessna 172S, the pilot should first establish the best glide speed of 68 knots. Then, identify a suitable landing site and prepare for a forced landing. Attempt to restart the engine by switching fuel tanks, setting the mixture to rich, and engaging the starter. If the restart fails, turn off the fuel, master switch, and magnetos, and prepare for landing with flaps as required. The POH outlines these steps in detail under emergency procedures.\n",
      "\n",
      "Example 4:\n",
      "Query: What is the maneuvering speed (VA) of the Cessna 172S, and why is it important?\n",
      "Answer: The maneuvering speed (VA) of the Cessna 172S varies with weight but is typically around 105 knots at maximum gross weight. This speed is important because it represents the maximum speed at which the aircraft can be flown with full, abrupt control inputs without exceeding its structural limits. Flying at or below VA protects the aircraft from structural damage during turbulence or aggressive maneuvers.\n",
      "\n",
      "Now use the following context items to answer the user query:\n",
      "- Fuel Selector Valve -- BOTH. 9.  Fuel Shutoff Valve -- ON (push full in). 10.  Avionics Circuit Breakers -- CHECK IN. Revision 4 4-11\n",
      "- SECTION 7 CESSNA MODEL 172S AIRPLANE & SYSTEMS DESCRIPTION FUEL VENTING Fuel system venting is essential to system operation.  Blockage of the system will result in decreasing fuel flow and eventual engine stoppage.  Venting is accomplished by an interconnecting line from the right fuel tank to the left tank.  The left fuel tank is vented overboard through a vent line, equipped with a check valve, which protrudes from the bottom surface of the left wing near the wing strut.  Both fuel filler caps are also vented. REDUCED TANK CAPACITY The airplane may be serviced to a reduced capacity to permit heavier cabin loadings.  This is accomplished by filling each tank to the bottom edge of the fuel filler tab, thus giving a reduced fuel load of 17.5 gallons usable in each tank. FUEL SELECTOR VALVE The fuel selector valve should be in the BOTH position for takeoff, climb, landing, and maneuvers that involve prolonged slips or skids of more than 30 seconds.  Operation from either LEFT or RIGHT tank is reserved for cruising flight. 7-26 NOTE When the fuel selector valve handle is in the BOTH position in cruising flight, unequal fuel flow from each tank may occur if the wings are not maintained exactly level.\n",
      "- CESSNA MODEL 172S SECTION 3 EMERGENCY PROCEDURES ENGINE FAILURE DURING FLIGHT (Restart Procedures) 1 .  Airspeed -- 68 KIAS. 2.  Fuel Shutoff Valve -- ON (push full in). 3.  Fuel Selector Valve -- BOTH. 4.  Auxiliary Fuel Pump Switch -- ON. 5.  Mixture -- RICH (if restart has not occurred).\n",
      "- NOTE CESSNA MODEL 172S If engine is warm, omit priming procedure of steps 6, 7 and 8 below. 6.  Auxiliary Fuel Pump Switch -- ON. 7.  Mixture -- SET to FULL RICH (full forward) until stable fuel flow is indicated (usually 3 to 5 seconds), then set to IDLE CUTOFF (full aft) position. 8.  Auxiliary Fuel Pump Switch -- OFF. 9.  Ignition Switch -- START (release when engine starts). 10.\n",
      "- CESSNA MODEL 172S LEFT FUEL TANK VENT (WITH CHECK VALVE) DRAIN VALVES (5 TOTAL) SECTION 7 AIRPLANE & SYSTEMS DESCRIPTION FUEL QUANTITY INDICATORS FUEL RESERVOIR TANK DRAIN RIGHT FUEL TANK VALVE KNOB - - - FUEL SHUTOFF-o I I I Revision 4 LEGEND FUEL SUPPLY VENT MECHANICAL LINKAGE ELECTRICAL CONNECTION Figure 7-6.  Fuel System Schematic (Sheet 1 of 2) 172S8001 thru 172S9490 0585C1013 I 7-27/7-27A\n",
      "\n",
      "Relevant passages: <extract relevant passages from the context here>\n",
      "User query: What are the standard procedures for operating the fuel selector valve on a Cessna 172S during flight\n",
      "Answer:<end_of_turn>\n",
      "<start_of_turn>model\n",
      "\n",
      "The standard procedures for operating the fuel selector valve on a Cessna 172S during flight are clearly outlined in the provided text. According to the manual, the fuel selector valve should be in the \"BOTH\" position for takeoff, climb, landing, and maneuvers that involve prolonged slips or skids of more than 30 seconds. Operation from either the left or right tank is reserved for cruising flight.\n",
      "\n",
      "It is important to note that when the fuel selector valve handle is in the \"BOTH\" position in cruising flight, unequal fuel flow from each tank may occur if the wings are not maintained exactly level. Therefore, it is crucial to maintain level wings during cruising flight to ensure even fuel flow.\n",
      "==========\n",
      "Prompt: 1295 tokens, 178.572 tokens-per-sec\n",
      "Generation: 142 tokens, 19.821 tokens-per-sec\n",
      "Peak memory: 17.317 GB\n"
     ]
    },
    {
     "data": {
      "text/plain": [
       "'The standard procedures for operating the fuel selector valve on a Cessna 172S during flight are clearly outlined in the provided text. According to the manual, the fuel selector valve should be in the \"BOTH\" position for takeoff, climb, landing, and maneuvers that involve prolonged slips or skids of more than 30 seconds. Operation from either the left or right tank is reserved for cruising flight.\\n\\nIt is important to note that when the fuel selector valve handle is in the \"BOTH\" position in cruising flight, unequal fuel flow from each tank may occur if the wings are not maintained exactly level. Therefore, it is crucial to maintain level wings during cruising flight to ensure even fuel flow.'"
      ]
     },
     "execution_count": 106,
     "metadata": {},
     "output_type": "execute_result"
    }
   ],
   "source": [
    "ask(\"What are the standard procedures for operating the fuel selector valve on a Cessna 172S during flight\")\n",
    "# ask(\"What is the importance of hydration for physical performance?\")"
   ]
  },
  {
   "cell_type": "code",
   "execution_count": null,
   "metadata": {},
   "outputs": [],
   "source": []
  }
 ],
 "metadata": {
  "kernelspec": {
   "display_name": "simple-local-rag-ItYONBGj-py3.11",
   "language": "python",
   "name": "python3"
  },
  "language_info": {
   "codemirror_mode": {
    "name": "ipython",
    "version": 3
   },
   "file_extension": ".py",
   "mimetype": "text/x-python",
   "name": "python",
   "nbconvert_exporter": "python",
   "pygments_lexer": "ipython3",
   "version": "3.11.9"
  }
 },
 "nbformat": 4,
 "nbformat_minor": 2
}
